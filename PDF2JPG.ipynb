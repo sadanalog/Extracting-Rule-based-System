{
 "cells": [
  {
   "cell_type": "markdown",
   "metadata": {},
   "source": [
    "## Converting pdf to jpg format"
   ]
  },
  {
   "cell_type": "code",
   "execution_count": null,
   "metadata": {},
   "outputs": [],
   "source": [
    "!pip install pdf2image"
   ]
  },
  {
   "cell_type": "code",
   "execution_count": 2,
   "metadata": {},
   "outputs": [],
   "source": [
    "from pathlib import Path\n",
    "from pdf2image import convert_from_path"
   ]
  },
  {
   "cell_type": "code",
   "execution_count": 3,
   "metadata": {},
   "outputs": [
    {
     "name": "stdout",
     "output_type": "stream",
     "text": [
      "Converting ...\n",
      "C:\\Users\\Isada\\Workspace\\arg-microtexts\\corpus\\en\\micro_b001.pdf was successfully converted\n",
      "C:\\Users\\Isada\\Workspace\\arg-microtexts\\corpus\\en\\micro_b002.pdf was successfully converted\n",
      "C:\\Users\\Isada\\Workspace\\arg-microtexts\\corpus\\en\\micro_b003.pdf was successfully converted\n",
      "C:\\Users\\Isada\\Workspace\\arg-microtexts\\corpus\\en\\micro_b004.pdf was successfully converted\n",
      "C:\\Users\\Isada\\Workspace\\arg-microtexts\\corpus\\en\\micro_b005.pdf was successfully converted\n",
      "C:\\Users\\Isada\\Workspace\\arg-microtexts\\corpus\\en\\micro_b006.pdf was successfully converted\n",
      "C:\\Users\\Isada\\Workspace\\arg-microtexts\\corpus\\en\\micro_b007.pdf was successfully converted\n",
      "C:\\Users\\Isada\\Workspace\\arg-microtexts\\corpus\\en\\micro_b008.pdf was successfully converted\n",
      "C:\\Users\\Isada\\Workspace\\arg-microtexts\\corpus\\en\\micro_b009.pdf was successfully converted\n",
      "C:\\Users\\Isada\\Workspace\\arg-microtexts\\corpus\\en\\micro_b010.pdf was successfully converted\n",
      "C:\\Users\\Isada\\Workspace\\arg-microtexts\\corpus\\en\\micro_b011.pdf was successfully converted\n",
      "C:\\Users\\Isada\\Workspace\\arg-microtexts\\corpus\\en\\micro_b012.pdf was successfully converted\n",
      "C:\\Users\\Isada\\Workspace\\arg-microtexts\\corpus\\en\\micro_b013.pdf was successfully converted\n",
      "C:\\Users\\Isada\\Workspace\\arg-microtexts\\corpus\\en\\micro_b014.pdf was successfully converted\n",
      "C:\\Users\\Isada\\Workspace\\arg-microtexts\\corpus\\en\\micro_b015.pdf was successfully converted\n",
      "C:\\Users\\Isada\\Workspace\\arg-microtexts\\corpus\\en\\micro_b016.pdf was successfully converted\n",
      "C:\\Users\\Isada\\Workspace\\arg-microtexts\\corpus\\en\\micro_b017.pdf was successfully converted\n",
      "C:\\Users\\Isada\\Workspace\\arg-microtexts\\corpus\\en\\micro_b018.pdf was successfully converted\n",
      "C:\\Users\\Isada\\Workspace\\arg-microtexts\\corpus\\en\\micro_b019.pdf was successfully converted\n",
      "C:\\Users\\Isada\\Workspace\\arg-microtexts\\corpus\\en\\micro_b020.pdf was successfully converted\n",
      "C:\\Users\\Isada\\Workspace\\arg-microtexts\\corpus\\en\\micro_b021.pdf was successfully converted\n",
      "C:\\Users\\Isada\\Workspace\\arg-microtexts\\corpus\\en\\micro_b022.pdf was successfully converted\n",
      "C:\\Users\\Isada\\Workspace\\arg-microtexts\\corpus\\en\\micro_b023.pdf was successfully converted\n",
      "C:\\Users\\Isada\\Workspace\\arg-microtexts\\corpus\\en\\micro_b024.pdf was successfully converted\n",
      "C:\\Users\\Isada\\Workspace\\arg-microtexts\\corpus\\en\\micro_b025.pdf was successfully converted\n",
      "C:\\Users\\Isada\\Workspace\\arg-microtexts\\corpus\\en\\micro_b026.pdf was successfully converted\n",
      "C:\\Users\\Isada\\Workspace\\arg-microtexts\\corpus\\en\\micro_b027.pdf was successfully converted\n",
      "C:\\Users\\Isada\\Workspace\\arg-microtexts\\corpus\\en\\micro_b028.pdf was successfully converted\n",
      "C:\\Users\\Isada\\Workspace\\arg-microtexts\\corpus\\en\\micro_b029.pdf was successfully converted\n",
      "C:\\Users\\Isada\\Workspace\\arg-microtexts\\corpus\\en\\micro_b030.pdf was successfully converted\n",
      "C:\\Users\\Isada\\Workspace\\arg-microtexts\\corpus\\en\\micro_b031.pdf was successfully converted\n",
      "C:\\Users\\Isada\\Workspace\\arg-microtexts\\corpus\\en\\micro_b032.pdf was successfully converted\n",
      "C:\\Users\\Isada\\Workspace\\arg-microtexts\\corpus\\en\\micro_b033.pdf was successfully converted\n",
      "C:\\Users\\Isada\\Workspace\\arg-microtexts\\corpus\\en\\micro_b034.pdf was successfully converted\n",
      "C:\\Users\\Isada\\Workspace\\arg-microtexts\\corpus\\en\\micro_b035.pdf was successfully converted\n",
      "C:\\Users\\Isada\\Workspace\\arg-microtexts\\corpus\\en\\micro_b036.pdf was successfully converted\n",
      "C:\\Users\\Isada\\Workspace\\arg-microtexts\\corpus\\en\\micro_b037.pdf was successfully converted\n",
      "C:\\Users\\Isada\\Workspace\\arg-microtexts\\corpus\\en\\micro_b038.pdf was successfully converted\n",
      "C:\\Users\\Isada\\Workspace\\arg-microtexts\\corpus\\en\\micro_b039.pdf was successfully converted\n",
      "C:\\Users\\Isada\\Workspace\\arg-microtexts\\corpus\\en\\micro_b040.pdf was successfully converted\n",
      "C:\\Users\\Isada\\Workspace\\arg-microtexts\\corpus\\en\\micro_b041.pdf was successfully converted\n",
      "C:\\Users\\Isada\\Workspace\\arg-microtexts\\corpus\\en\\micro_b042.pdf was successfully converted\n",
      "C:\\Users\\Isada\\Workspace\\arg-microtexts\\corpus\\en\\micro_b044.pdf was successfully converted\n",
      "C:\\Users\\Isada\\Workspace\\arg-microtexts\\corpus\\en\\micro_b045.pdf was successfully converted\n",
      "C:\\Users\\Isada\\Workspace\\arg-microtexts\\corpus\\en\\micro_b046.pdf was successfully converted\n",
      "C:\\Users\\Isada\\Workspace\\arg-microtexts\\corpus\\en\\micro_b047.pdf was successfully converted\n",
      "C:\\Users\\Isada\\Workspace\\arg-microtexts\\corpus\\en\\micro_b048.pdf was successfully converted\n",
      "C:\\Users\\Isada\\Workspace\\arg-microtexts\\corpus\\en\\micro_b049.pdf was successfully converted\n",
      "C:\\Users\\Isada\\Workspace\\arg-microtexts\\corpus\\en\\micro_b050.pdf was successfully converted\n",
      "C:\\Users\\Isada\\Workspace\\arg-microtexts\\corpus\\en\\micro_b051.pdf was successfully converted\n",
      "C:\\Users\\Isada\\Workspace\\arg-microtexts\\corpus\\en\\micro_b052.pdf was successfully converted\n",
      "C:\\Users\\Isada\\Workspace\\arg-microtexts\\corpus\\en\\micro_b053.pdf was successfully converted\n",
      "C:\\Users\\Isada\\Workspace\\arg-microtexts\\corpus\\en\\micro_b054.pdf was successfully converted\n",
      "C:\\Users\\Isada\\Workspace\\arg-microtexts\\corpus\\en\\micro_b055.pdf was successfully converted\n",
      "C:\\Users\\Isada\\Workspace\\arg-microtexts\\corpus\\en\\micro_b056.pdf was successfully converted\n",
      "C:\\Users\\Isada\\Workspace\\arg-microtexts\\corpus\\en\\micro_b057.pdf was successfully converted\n",
      "C:\\Users\\Isada\\Workspace\\arg-microtexts\\corpus\\en\\micro_b058.pdf was successfully converted\n",
      "C:\\Users\\Isada\\Workspace\\arg-microtexts\\corpus\\en\\micro_b059.pdf was successfully converted\n",
      "C:\\Users\\Isada\\Workspace\\arg-microtexts\\corpus\\en\\micro_b060.pdf was successfully converted\n",
      "C:\\Users\\Isada\\Workspace\\arg-microtexts\\corpus\\en\\micro_b061.pdf was successfully converted\n",
      "C:\\Users\\Isada\\Workspace\\arg-microtexts\\corpus\\en\\micro_b062.pdf was successfully converted\n",
      "C:\\Users\\Isada\\Workspace\\arg-microtexts\\corpus\\en\\micro_b064.pdf was successfully converted\n",
      "C:\\Users\\Isada\\Workspace\\arg-microtexts\\corpus\\en\\micro_d01.pdf was successfully converted\n",
      "C:\\Users\\Isada\\Workspace\\arg-microtexts\\corpus\\en\\micro_d02.pdf was successfully converted\n",
      "C:\\Users\\Isada\\Workspace\\arg-microtexts\\corpus\\en\\micro_d03.pdf was successfully converted\n",
      "C:\\Users\\Isada\\Workspace\\arg-microtexts\\corpus\\en\\micro_d04.pdf was successfully converted\n",
      "C:\\Users\\Isada\\Workspace\\arg-microtexts\\corpus\\en\\micro_d05.pdf was successfully converted\n",
      "C:\\Users\\Isada\\Workspace\\arg-microtexts\\corpus\\en\\micro_d06.pdf was successfully converted\n",
      "C:\\Users\\Isada\\Workspace\\arg-microtexts\\corpus\\en\\micro_d07.pdf was successfully converted\n",
      "C:\\Users\\Isada\\Workspace\\arg-microtexts\\corpus\\en\\micro_d08.pdf was successfully converted\n",
      "C:\\Users\\Isada\\Workspace\\arg-microtexts\\corpus\\en\\micro_d09.pdf was successfully converted\n",
      "C:\\Users\\Isada\\Workspace\\arg-microtexts\\corpus\\en\\micro_d10.pdf was successfully converted\n",
      "C:\\Users\\Isada\\Workspace\\arg-microtexts\\corpus\\en\\micro_d11.pdf was successfully converted\n",
      "C:\\Users\\Isada\\Workspace\\arg-microtexts\\corpus\\en\\micro_d12.pdf was successfully converted\n",
      "C:\\Users\\Isada\\Workspace\\arg-microtexts\\corpus\\en\\micro_d13.pdf was successfully converted\n",
      "C:\\Users\\Isada\\Workspace\\arg-microtexts\\corpus\\en\\micro_d14.pdf was successfully converted\n",
      "C:\\Users\\Isada\\Workspace\\arg-microtexts\\corpus\\en\\micro_d15.pdf was successfully converted\n",
      "C:\\Users\\Isada\\Workspace\\arg-microtexts\\corpus\\en\\micro_d16.pdf was successfully converted\n",
      "C:\\Users\\Isada\\Workspace\\arg-microtexts\\corpus\\en\\micro_d17.pdf was successfully converted\n",
      "C:\\Users\\Isada\\Workspace\\arg-microtexts\\corpus\\en\\micro_d18.pdf was successfully converted\n",
      "C:\\Users\\Isada\\Workspace\\arg-microtexts\\corpus\\en\\micro_d19.pdf was successfully converted\n",
      "C:\\Users\\Isada\\Workspace\\arg-microtexts\\corpus\\en\\micro_d20.pdf was successfully converted\n",
      "C:\\Users\\Isada\\Workspace\\arg-microtexts\\corpus\\en\\micro_d21.pdf was successfully converted\n",
      "C:\\Users\\Isada\\Workspace\\arg-microtexts\\corpus\\en\\micro_d22.pdf was successfully converted\n",
      "C:\\Users\\Isada\\Workspace\\arg-microtexts\\corpus\\en\\micro_d23.pdf was successfully converted\n",
      "C:\\Users\\Isada\\Workspace\\arg-microtexts\\corpus\\en\\micro_k001.pdf was successfully converted\n",
      "C:\\Users\\Isada\\Workspace\\arg-microtexts\\corpus\\en\\micro_k002.pdf was successfully converted\n",
      "C:\\Users\\Isada\\Workspace\\arg-microtexts\\corpus\\en\\micro_k003.pdf was successfully converted\n",
      "C:\\Users\\Isada\\Workspace\\arg-microtexts\\corpus\\en\\micro_k004.pdf was successfully converted\n",
      "C:\\Users\\Isada\\Workspace\\arg-microtexts\\corpus\\en\\micro_k006.pdf was successfully converted\n"
     ]
    },
    {
     "name": "stdout",
     "output_type": "stream",
     "text": [
      "C:\\Users\\Isada\\Workspace\\arg-microtexts\\corpus\\en\\micro_k007.pdf was successfully converted\n",
      "C:\\Users\\Isada\\Workspace\\arg-microtexts\\corpus\\en\\micro_k008.pdf was successfully converted\n",
      "C:\\Users\\Isada\\Workspace\\arg-microtexts\\corpus\\en\\micro_k009.pdf was successfully converted\n",
      "C:\\Users\\Isada\\Workspace\\arg-microtexts\\corpus\\en\\micro_k010.pdf was successfully converted\n",
      "C:\\Users\\Isada\\Workspace\\arg-microtexts\\corpus\\en\\micro_k011.pdf was successfully converted\n",
      "C:\\Users\\Isada\\Workspace\\arg-microtexts\\corpus\\en\\micro_k012.pdf was successfully converted\n",
      "C:\\Users\\Isada\\Workspace\\arg-microtexts\\corpus\\en\\micro_k013.pdf was successfully converted\n",
      "C:\\Users\\Isada\\Workspace\\arg-microtexts\\corpus\\en\\micro_k014.pdf was successfully converted\n",
      "C:\\Users\\Isada\\Workspace\\arg-microtexts\\corpus\\en\\micro_k015.pdf was successfully converted\n",
      "C:\\Users\\Isada\\Workspace\\arg-microtexts\\corpus\\en\\micro_k016.pdf was successfully converted\n",
      "C:\\Users\\Isada\\Workspace\\arg-microtexts\\corpus\\en\\micro_k017.pdf was successfully converted\n",
      "C:\\Users\\Isada\\Workspace\\arg-microtexts\\corpus\\en\\micro_k018.pdf was successfully converted\n",
      "C:\\Users\\Isada\\Workspace\\arg-microtexts\\corpus\\en\\micro_k019.pdf was successfully converted\n",
      "C:\\Users\\Isada\\Workspace\\arg-microtexts\\corpus\\en\\micro_k020.pdf was successfully converted\n",
      "C:\\Users\\Isada\\Workspace\\arg-microtexts\\corpus\\en\\micro_k021.pdf was successfully converted\n",
      "C:\\Users\\Isada\\Workspace\\arg-microtexts\\corpus\\en\\micro_k022.pdf was successfully converted\n",
      "C:\\Users\\Isada\\Workspace\\arg-microtexts\\corpus\\en\\micro_k023.pdf was successfully converted\n",
      "C:\\Users\\Isada\\Workspace\\arg-microtexts\\corpus\\en\\micro_k024.pdf was successfully converted\n",
      "C:\\Users\\Isada\\Workspace\\arg-microtexts\\corpus\\en\\micro_k025.pdf was successfully converted\n",
      "C:\\Users\\Isada\\Workspace\\arg-microtexts\\corpus\\en\\micro_k027.pdf was successfully converted\n",
      "C:\\Users\\Isada\\Workspace\\arg-microtexts\\corpus\\en\\micro_k029.pdf was successfully converted\n",
      "C:\\Users\\Isada\\Workspace\\arg-microtexts\\corpus\\en\\micro_k031.pdf was successfully converted\n"
     ]
    }
   ],
   "source": [
    "directory_in_str = \"C:/Users/Isada/Workspace/arg-microtexts/corpus/en\"\n",
    "pathlist = Path(directory_in_str).rglob(\"*.pdf\")\n",
    "\n",
    "print(\"Converting ...\")\n",
    "for path in pathlist:  \n",
    "    path_in_str = str(path)\n",
    "    try:\n",
    "        pixels = convert_from_path(path_in_str)\n",
    "        pixels[0].save(path_in_str + \".jpg\")\n",
    "        print(path_in_str + \" was successfully converted\")\n",
    "    except:\n",
    "        print(path_in_str + \" was failed\")"
   ]
  },
  {
   "cell_type": "code",
   "execution_count": null,
   "metadata": {},
   "outputs": [],
   "source": []
  },
  {
   "cell_type": "code",
   "execution_count": null,
   "metadata": {},
   "outputs": [],
   "source": []
  }
 ],
 "metadata": {
  "kernelspec": {
   "display_name": "Python 3",
   "language": "python",
   "name": "python3"
  },
  "language_info": {
   "codemirror_mode": {
    "name": "ipython",
    "version": 3
   },
   "file_extension": ".py",
   "mimetype": "text/x-python",
   "name": "python",
   "nbconvert_exporter": "python",
   "pygments_lexer": "ipython3",
   "version": "3.8.3"
  }
 },
 "nbformat": 4,
 "nbformat_minor": 4
}
